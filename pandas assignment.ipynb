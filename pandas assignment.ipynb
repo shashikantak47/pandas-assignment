{
 "cells": [
  {
   "cell_type": "markdown",
   "id": "1864fabb-b90b-4ec4-9830-691880c17417",
   "metadata": {},
   "source": [
    "# Question 1"
   ]
  },
  {
   "cell_type": "code",
   "execution_count": 1,
   "id": "614caeb6-fe59-4782-bb26-5e243c54b47c",
   "metadata": {},
   "outputs": [],
   "source": [
    "import pandas as pd"
   ]
  },
  {
   "cell_type": "code",
   "execution_count": 8,
   "id": "b100aaad-2acd-46ec-b52f-a4e4bab28edf",
   "metadata": {},
   "outputs": [],
   "source": [
    "k = (4,8,15,16,23,42)"
   ]
  },
  {
   "cell_type": "code",
   "execution_count": 10,
   "id": "b4b46998-36fb-42bc-a63b-655de27165f5",
   "metadata": {},
   "outputs": [
    {
     "name": "stdout",
     "output_type": "stream",
     "text": [
      "(4, 8, 15, 16, 23, 42)\n"
     ]
    }
   ],
   "source": [
    "df = pd.Series(k)\n",
    "print(k)"
   ]
  },
  {
   "cell_type": "markdown",
   "id": "32a11baa-a9f9-4d6d-95c0-4b677234cef7",
   "metadata": {},
   "source": [
    "# question 2"
   ]
  },
  {
   "cell_type": "code",
   "execution_count": 11,
   "id": "5eb5995e-5e77-4347-87c3-fc4d90b8c277",
   "metadata": {},
   "outputs": [],
   "source": [
    "l = [1,2,3,44,55,65,67,34,56,89]"
   ]
  },
  {
   "cell_type": "code",
   "execution_count": 12,
   "id": "0514a208-ce3c-4867-990f-331b9977e929",
   "metadata": {},
   "outputs": [
    {
     "name": "stdout",
     "output_type": "stream",
     "text": [
      "0     1\n",
      "1     2\n",
      "2     3\n",
      "3    44\n",
      "4    55\n",
      "5    65\n",
      "6    67\n",
      "7    34\n",
      "8    56\n",
      "9    89\n",
      "dtype: int64\n"
     ]
    }
   ],
   "source": [
    "df1 = pd.Series(l)\n",
    "print(df1)"
   ]
  },
  {
   "cell_type": "code",
   "execution_count": 13,
   "id": "e4bf0d25-e523-494c-956f-9e587843f172",
   "metadata": {},
   "outputs": [
    {
     "data": {
      "text/plain": [
       "pandas.core.series.Series"
      ]
     },
     "execution_count": 13,
     "metadata": {},
     "output_type": "execute_result"
    }
   ],
   "source": [
    "type(df1)"
   ]
  },
  {
   "cell_type": "markdown",
   "id": "1c5ed023-ceae-4393-83c9-9a5c6d18f4f6",
   "metadata": {},
   "source": [
    "# question 3"
   ]
  },
  {
   "cell_type": "code",
   "execution_count": 18,
   "id": "2a1ab89b-3f08-4d6a-986c-4f41bac7d9c5",
   "metadata": {},
   "outputs": [
    {
     "data": {
      "text/html": [
       "<div>\n",
       "<style scoped>\n",
       "    .dataframe tbody tr th:only-of-type {\n",
       "        vertical-align: middle;\n",
       "    }\n",
       "\n",
       "    .dataframe tbody tr th {\n",
       "        vertical-align: top;\n",
       "    }\n",
       "\n",
       "    .dataframe thead th {\n",
       "        text-align: right;\n",
       "    }\n",
       "</style>\n",
       "<table border=\"1\" class=\"dataframe\">\n",
       "  <thead>\n",
       "    <tr style=\"text-align: right;\">\n",
       "      <th></th>\n",
       "      <th>Name</th>\n",
       "      <th>Age</th>\n",
       "      <th>Gender</th>\n",
       "    </tr>\n",
       "  </thead>\n",
       "  <tbody>\n",
       "    <tr>\n",
       "      <th>0</th>\n",
       "      <td>Alice</td>\n",
       "      <td>25</td>\n",
       "      <td>Female</td>\n",
       "    </tr>\n",
       "    <tr>\n",
       "      <th>1</th>\n",
       "      <td>Bob</td>\n",
       "      <td>30</td>\n",
       "      <td>Male</td>\n",
       "    </tr>\n",
       "    <tr>\n",
       "      <th>2</th>\n",
       "      <td>Claire</td>\n",
       "      <td>27</td>\n",
       "      <td>Female</td>\n",
       "    </tr>\n",
       "  </tbody>\n",
       "</table>\n",
       "</div>"
      ],
      "text/plain": [
       "     Name  Age   Gender\n",
       "0   Alice   25   Female\n",
       "1     Bob   30     Male\n",
       "2  Claire   27   Female"
      ]
     },
     "execution_count": 18,
     "metadata": {},
     "output_type": "execute_result"
    }
   ],
   "source": [
    "data = {\n",
    "    'Name' : ['Alice', 'Bob', 'Claire'],\n",
    "    'Age' : [25,30,27],\n",
    "    'Gender' :['Female', 'Male', ' Female'],\n",
    "}\n",
    "\n",
    "ks = pd.DataFrame(data)\n",
    "ks"
   ]
  },
  {
   "cell_type": "markdown",
   "id": "4320964a-26ad-464f-8b08-c64621dc843c",
   "metadata": {},
   "source": [
    "# Question 4"
   ]
  },
  {
   "cell_type": "raw",
   "id": "0465de39-bf65-49c7-a066-76a590661efc",
   "metadata": {},
   "source": [
    "sol : A DataFrame is a 2-dimensional data structure in the Pandas library used for data manipulation and analysis. A DataFrame is a table-like data structure where columns have a fixed name, and rows are labeled with unique integer indexes. It can be used to represent both numerical and categorical data with varying data types. Pandas provides powerful functionality for working with DataFrames, including data cleaning, reshaping, aggregation, and visualization. It can be easily imported from CSV, Excel, or other data sources and exported to various formats, including CSV, Excel, and SQL databases.  "
   ]
  },
  {
   "cell_type": "raw",
   "id": "d2c95292-e0d5-4c71-ae5f-510740b32910",
   "metadata": {},
   "source": [
    "A pandas DataFrame and a Series are both used to store and work with data in Python. However, they differ in terms of their shape and structure. A DataFrame is a multi-dimensional data structure, where each row represents an observation and each column represents a feature. A Series is a one-dimensional data structure, where each value is a single observation. Additionally, a Series can have missing values while a DataFrame cannot. Here is an example:"
   ]
  },
  {
   "cell_type": "code",
   "execution_count": 21,
   "id": "b8ad0b16-56ca-4c28-928d-6a21003a573d",
   "metadata": {},
   "outputs": [],
   "source": [
    "import pandas as pd\n",
    "\n",
    "df = pd.DataFrame({'A': [1, 2, 3], 'B': [4, 5, 6]})\n",
    "series = pd.Series([7, 8, 9])  \n"
   ]
  },
  {
   "cell_type": "markdown",
   "id": "befc469d-68cc-4423-af35-ed379056a270",
   "metadata": {},
   "source": [
    "# question 5"
   ]
  },
  {
   "cell_type": "raw",
   "id": "b494be2d-3e97-4d77-a927-4f8d3a014525",
   "metadata": {},
   "source": [
    "sol:  Pandas, a popular library for data analysis in Python, offers a variety of built-in functions to manipulate data in a DataFrame. Some common functions include: select(), filter(), groupby(), sort_values(), transform(), pivot(), merge(), and fillna(). You can also use the apply() function to apply custom functions to each row or column in the DataFrame. Additionally, the DataFrame can be edited directly using integer indexing and boolean indexing.  "
   ]
  },
  {
   "cell_type": "code",
   "execution_count": 22,
   "id": "c61c5616-c5b8-4746-bdc8-39843bb4e624",
   "metadata": {},
   "outputs": [
    {
     "data": {
      "text/html": [
       "<div>\n",
       "<style scoped>\n",
       "    .dataframe tbody tr th:only-of-type {\n",
       "        vertical-align: middle;\n",
       "    }\n",
       "\n",
       "    .dataframe tbody tr th {\n",
       "        vertical-align: top;\n",
       "    }\n",
       "\n",
       "    .dataframe thead th {\n",
       "        text-align: right;\n",
       "    }\n",
       "</style>\n",
       "<table border=\"1\" class=\"dataframe\">\n",
       "  <thead>\n",
       "    <tr style=\"text-align: right;\">\n",
       "      <th></th>\n",
       "      <th>Name</th>\n",
       "      <th>Age</th>\n",
       "      <th>Gender</th>\n",
       "    </tr>\n",
       "  </thead>\n",
       "  <tbody>\n",
       "    <tr>\n",
       "      <th>0</th>\n",
       "      <td>Alice</td>\n",
       "      <td>25</td>\n",
       "      <td>Female</td>\n",
       "    </tr>\n",
       "    <tr>\n",
       "      <th>1</th>\n",
       "      <td>Bob</td>\n",
       "      <td>30</td>\n",
       "      <td>Male</td>\n",
       "    </tr>\n",
       "    <tr>\n",
       "      <th>2</th>\n",
       "      <td>Claire</td>\n",
       "      <td>27</td>\n",
       "      <td>Female</td>\n",
       "    </tr>\n",
       "  </tbody>\n",
       "</table>\n",
       "</div>"
      ],
      "text/plain": [
       "     Name  Age   Gender\n",
       "0   Alice   25   Female\n",
       "1     Bob   30     Male\n",
       "2  Claire   27   Female"
      ]
     },
     "execution_count": 22,
     "metadata": {},
     "output_type": "execute_result"
    }
   ],
   "source": [
    "ks"
   ]
  },
  {
   "cell_type": "code",
   "execution_count": 23,
   "id": "7cad86b6-b326-4f68-84d7-86ecf35d93e5",
   "metadata": {},
   "outputs": [
    {
     "data": {
      "text/html": [
       "<div>\n",
       "<style scoped>\n",
       "    .dataframe tbody tr th:only-of-type {\n",
       "        vertical-align: middle;\n",
       "    }\n",
       "\n",
       "    .dataframe tbody tr th {\n",
       "        vertical-align: top;\n",
       "    }\n",
       "\n",
       "    .dataframe thead th {\n",
       "        text-align: right;\n",
       "    }\n",
       "</style>\n",
       "<table border=\"1\" class=\"dataframe\">\n",
       "  <thead>\n",
       "    <tr style=\"text-align: right;\">\n",
       "      <th></th>\n",
       "      <th>Name</th>\n",
       "      <th>Age</th>\n",
       "      <th>Gender</th>\n",
       "    </tr>\n",
       "  </thead>\n",
       "  <tbody>\n",
       "    <tr>\n",
       "      <th>0</th>\n",
       "      <td>Alice</td>\n",
       "      <td>25</td>\n",
       "      <td>Female</td>\n",
       "    </tr>\n",
       "  </tbody>\n",
       "</table>\n",
       "</div>"
      ],
      "text/plain": [
       "    Name  Age  Gender\n",
       "0  Alice   25  Female"
      ]
     },
     "execution_count": 23,
     "metadata": {},
     "output_type": "execute_result"
    }
   ],
   "source": [
    "ks.head(1)"
   ]
  },
  {
   "cell_type": "code",
   "execution_count": 24,
   "id": "b753244e-591b-4d97-8e8d-4a7f5728db33",
   "metadata": {},
   "outputs": [
    {
     "data": {
      "text/html": [
       "<div>\n",
       "<style scoped>\n",
       "    .dataframe tbody tr th:only-of-type {\n",
       "        vertical-align: middle;\n",
       "    }\n",
       "\n",
       "    .dataframe tbody tr th {\n",
       "        vertical-align: top;\n",
       "    }\n",
       "\n",
       "    .dataframe thead th {\n",
       "        text-align: right;\n",
       "    }\n",
       "</style>\n",
       "<table border=\"1\" class=\"dataframe\">\n",
       "  <thead>\n",
       "    <tr style=\"text-align: right;\">\n",
       "      <th></th>\n",
       "      <th>Name</th>\n",
       "      <th>Age</th>\n",
       "      <th>Gender</th>\n",
       "    </tr>\n",
       "  </thead>\n",
       "  <tbody>\n",
       "    <tr>\n",
       "      <th>1</th>\n",
       "      <td>Bob</td>\n",
       "      <td>30</td>\n",
       "      <td>Male</td>\n",
       "    </tr>\n",
       "    <tr>\n",
       "      <th>2</th>\n",
       "      <td>Claire</td>\n",
       "      <td>27</td>\n",
       "      <td>Female</td>\n",
       "    </tr>\n",
       "  </tbody>\n",
       "</table>\n",
       "</div>"
      ],
      "text/plain": [
       "     Name  Age   Gender\n",
       "1     Bob   30     Male\n",
       "2  Claire   27   Female"
      ]
     },
     "execution_count": 24,
     "metadata": {},
     "output_type": "execute_result"
    }
   ],
   "source": [
    "ks.tail(2)"
   ]
  },
  {
   "cell_type": "markdown",
   "id": "5b2dde7a-dfb7-44b1-a01a-a1cfaf72736c",
   "metadata": {},
   "source": [
    "# question 6"
   ]
  },
  {
   "cell_type": "raw",
   "id": "ee224a3f-6436-4ef9-aeba-c2bad0d577ac",
   "metadata": {},
   "source": [
    "sol:  In Python, `dataframe` is an immutable data structure, meaning it cannot be modified. However, individual columns or rows within a `dataframe` can be modified. Additionally, you can modify the data in place using operations like `loc` and add new columns to the `dataframe` using methods like `assign`.\n",
    "\n",
    "For mutable data structures, you can use `Series` dataframe panels. `Series` data is mutable, so you can modify the data in place using operations like `loc` and `iloc`. You can also manipulate the data directly using pandas `Series.values` attribute.  "
   ]
  },
  {
   "cell_type": "markdown",
   "id": "f05b2d0d-d496-42ca-8da5-bdb7f6fac52c",
   "metadata": {},
   "source": [
    "# question 7"
   ]
  },
  {
   "cell_type": "code",
   "execution_count": 26,
   "id": "19a7a185-3c70-4da5-a780-149fde57a06e",
   "metadata": {},
   "outputs": [
    {
     "name": "stdout",
     "output_type": "stream",
     "text": [
      "      Name  Age         City\n",
      "0    Alice   25     New York\n",
      "1      Bob   30  Los Angeles\n",
      "2  Charlie   35      Chicago\n",
      "3    David   40      Houston\n"
     ]
    }
   ],
   "source": [
    "import pandas as pd\n",
    "\n",
    "# Creating multiple Series\n",
    "name_series = pd.Series(['Alice', 'Bob', 'Charlie', 'David'])\n",
    "age_series = pd.Series([25, 30, 35, 40])\n",
    "city_series = pd.Series(['New York', 'Los Angeles', 'Chicago', 'Houston'])\n",
    "\n",
    "# Creating a DataFrame using the Series\n",
    "data = {'Name': name_series, 'Age': age_series, 'City': city_series}\n",
    "df = pd.DataFrame(data)\n",
    "\n",
    "# Displaying the DataFrame\n",
    "print(df)\n"
   ]
  },
  {
   "cell_type": "code",
   "execution_count": null,
   "id": "25359062-a3a6-4915-a023-49467bd3f1cb",
   "metadata": {},
   "outputs": [],
   "source": []
  }
 ],
 "metadata": {
  "kernelspec": {
   "display_name": "Python 3 (ipykernel)",
   "language": "python",
   "name": "python3"
  },
  "language_info": {
   "codemirror_mode": {
    "name": "ipython",
    "version": 3
   },
   "file_extension": ".py",
   "mimetype": "text/x-python",
   "name": "python",
   "nbconvert_exporter": "python",
   "pygments_lexer": "ipython3",
   "version": "3.10.8"
  }
 },
 "nbformat": 4,
 "nbformat_minor": 5
}
